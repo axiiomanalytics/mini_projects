{
 "cells": [
  {
   "cell_type": "code",
   "execution_count": 1,
   "metadata": {
    "colab": {
     "base_uri": "https://localhost:8080/",
     "height": 105
    },
    "colab_type": "code",
    "id": "88vIYTX3LnEM",
    "outputId": "863b82d2-994d-4e0a-bca2-740c7cf9cedd"
   },
   "outputs": [
    {
     "name": "stdout",
     "output_type": "stream",
     "text": [
      "Requirement already satisfied: requests in c:\\users\\ashka\\anaconda3\\lib\\site-packages (2.23.0)\n",
      "Requirement already satisfied: certifi>=2017.4.17 in c:\\users\\ashka\\anaconda3\\lib\\site-packages (from requests) (2019.11.28)\n",
      "Requirement already satisfied: idna<3,>=2.5 in c:\\users\\ashka\\anaconda3\\lib\\site-packages (from requests) (2.9)\n",
      "Requirement already satisfied: chardet<4,>=3.0.2 in c:\\users\\ashka\\anaconda3\\lib\\site-packages (from requests) (3.0.4)\n",
      "Requirement already satisfied: urllib3!=1.25.0,!=1.25.1,<1.26,>=1.21.1 in c:\\users\\ashka\\anaconda3\\lib\\site-packages (from requests) (1.25.8)\n",
      "Requirement already satisfied: beautifulsoup4 in c:\\users\\ashka\\anaconda3\\lib\\site-packages (4.8.2)\n",
      "Requirement already satisfied: soupsieve>=1.2 in c:\\users\\ashka\\anaconda3\\lib\\site-packages (from beautifulsoup4) (2.0)\n"
     ]
    }
   ],
   "source": [
    "!pip install requests\n",
    "!pip install beautifulsoup4"
   ]
  },
  {
   "cell_type": "code",
   "execution_count": 2,
   "metadata": {
    "colab": {},
    "colab_type": "code",
    "id": "MNd4cMCqLnEU"
   },
   "outputs": [],
   "source": [
    "import numpy as np\n",
    "import pandas as pd\n",
    "import requests\n",
    "import bs4\n",
    "import lxml.etree as xml\n",
    "import time,datetime\n",
    "import xlsxwriter\n",
    "from PIL import Image                                                                                "
   ]
  },
  {
   "cell_type": "code",
   "execution_count": 3,
   "metadata": {},
   "outputs": [],
   "source": [
    "last_trade_data=[]\n",
    "NAV_price_data=[]\n",
    "time_data=[]"
   ]
  },
  {
   "cell_type": "code",
   "execution_count": null,
   "metadata": {
    "colab": {},
    "colab_type": "code",
    "id": "LHjrmYTQLnEX"
   },
   "outputs": [
    {
     "name": "stdout",
     "output_type": "stream",
     "text": [
      "The Last traded price is : 135010\n",
      "The NAV price is: 133779\n",
      "The NAV price time update is: \n",
      "The Last traded price is : 135010\n",
      "The NAV price is: 133779\n",
      "The NAV price time update is: 99/2/30 15:00:57\n",
      "The Last traded price is : 135010\n",
      "The NAV price is: 133779\n",
      "The NAV price time update is: 99/2/30 15:00:57\n",
      "The Last traded price is : 135010\n",
      "The NAV price is: 133779\n",
      "The NAV price time update is: \n",
      "The Last traded price is : 135010\n",
      "The NAV price is: 133779\n",
      "The NAV price time update is: 99/2/30 15:00:57\n"
     ]
    }
   ],
   "source": [
    "\n",
    "\n",
    "while True:\n",
    "    if datetime.datetime.now().minute % 1 == 0:\n",
    "        \n",
    "        URL = \"http://www.tsetmc.com/tsev2/data/instinfodata.aspx?i=69067576215760005&c=68+&e=1\"\n",
    "        requests.get(URL)\n",
    "        web_page = bs4.BeautifulSoup(requests.get(URL, {}).text, \"html.parser\")\n",
    "        # text_parsed=web_page.get_text(separator=',')\n",
    "        text_convert=str(web_page)\n",
    "        Last_Trade=text_convert.split(',')[2]\n",
    "        NAV_price=text_convert.split(',')[15].split(';')[0]\n",
    "        Time=text_convert.split(',')[15].split(';')[1]\n",
    "\n",
    "        last_trade_data.append(Last_Trade)\n",
    "        NAV_price_data.append(NAV_price)\n",
    "        time_data.append(Time)\n",
    "        print('The Last traded price is : {}'.format(Last_Trade))\n",
    "        print('The NAV price is: {}'.format(NAV_price))\n",
    "        print('The NAV price time update is: {}'.format(Time))\n",
    "\n",
    "        if int(Last_Trade)/int(NAV_price)<0.997:\n",
    "            buy = Image.open('buy.png')\n",
    "            buy.show() \n",
    "        \n",
    "        if int(Last_Trade)/int(NAV_price)>1.02:\n",
    "            sell = Image.open('sell.jpg')\n",
    "            sell.show() \n",
    "        \n",
    "        name='last_trade_data_'+str(datetime.date.today())+'.xlsx'\n",
    "        with xlsxwriter.Workbook(name) as workbook:\n",
    "            worksheet = workbook.add_worksheet()\n",
    "            for i in range(len(last_trade_data)):\n",
    "                worksheet.write(i,0,time_data[i])\n",
    "                worksheet.write(i,1,last_trade_data[i])\n",
    "                worksheet.write(i,2,NAV_price_data[i])\n",
    "        \n",
    "    time.sleep(60)"
   ]
  },
  {
   "cell_type": "code",
   "execution_count": null,
   "metadata": {},
   "outputs": [],
   "source": []
  },
  {
   "cell_type": "code",
   "execution_count": null,
   "metadata": {},
   "outputs": [],
   "source": []
  }
 ],
 "metadata": {
  "colab": {
   "name": "Copy of Web Scraping Guide.ipynb",
   "provenance": []
  },
  "kernelspec": {
   "display_name": "Python 3",
   "language": "python",
   "name": "python3"
  },
  "language_info": {
   "codemirror_mode": {
    "name": "ipython",
    "version": 3
   },
   "file_extension": ".py",
   "mimetype": "text/x-python",
   "name": "python",
   "nbconvert_exporter": "python",
   "pygments_lexer": "ipython3",
   "version": "3.7.7"
  }
 },
 "nbformat": 4,
 "nbformat_minor": 1
}
